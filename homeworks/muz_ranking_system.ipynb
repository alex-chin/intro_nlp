{
 "cells": [
  {
   "cell_type": "code",
   "execution_count": 1,
   "outputs": [],
   "source": [
    "import numpy as np\n",
    "from datetime import datetime\n",
    "import pandas as pd"
   ],
   "metadata": {
    "collapsed": false,
    "pycharm": {
     "name": "#%%\n"
    }
   }
  },
  {
   "cell_type": "code",
   "execution_count": 2,
   "outputs": [],
   "source": [
    "import random\n",
    "\n",
    "def randomtimes(start, end, n):\n",
    "    frmt = '%d-%m-%Y'\n",
    "    stime = datetime.strptime(start, frmt)\n",
    "    etime = datetime.strptime(end, frmt)\n",
    "    td = etime - stime\n",
    "    return [(random.random() * td + stime) for _ in range(n)]"
   ],
   "metadata": {
    "collapsed": false,
    "pycharm": {
     "name": "#%%\n"
    }
   }
  },
  {
   "cell_type": "code",
   "execution_count": 3,
   "outputs": [],
   "source": [
    "N=100"
   ],
   "metadata": {
    "collapsed": false,
    "pycharm": {
     "name": "#%%\n"
    }
   }
  },
  {
   "cell_type": "code",
   "execution_count": 4,
   "outputs": [],
   "source": [
    "dates = randomtimes('01-06-2022', '30-10-2022', N)\n",
    "distances=np.random.randint(low=1, high=100, size=N)\n",
    "search_rank=np.random.randint(low=1e5, high=1e7, size=N)\n",
    "\n",
    "df = pd.DataFrame({'dates':np.array(dates), 'distances':distances, 'search_rank':search_rank})\n",
    "df['timestamp'] = df.dates.astype(np.int64)"
   ],
   "metadata": {
    "collapsed": false,
    "pycharm": {
     "name": "#%%\n"
    }
   }
  },
  {
   "cell_type": "code",
   "execution_count": 5,
   "outputs": [
    {
     "data": {
      "text/plain": "                        dates  distances  search_rank            timestamp\n0  2022-10-03 18:44:37.174046         60      7898059  1664822677174046000\n1  2022-07-12 00:28:31.207960         52      1559165  1657585711207960000\n2  2022-09-18 02:46:57.597922          7      4946519  1663469217597922000\n3  2022-08-19 12:00:20.344397         77      7934807  1660910420344397000\n4  2022-09-22 11:48:57.470142         94      3378973  1663847337470142000\n..                        ...        ...          ...                  ...\n95 2022-08-04 15:54:28.180900         80      9679007  1659628468180900000\n96 2022-09-04 12:17:16.027690         31      6007022  1662293836027690000\n97 2022-08-12 05:20:47.065580         81      9940275  1660281647065580000\n98 2022-07-06 21:31:50.447781         94      1746031  1657143110447781000\n99 2022-08-19 05:16:54.455868         73      4408639  1660886214455868000\n\n[100 rows x 4 columns]",
      "text/html": "<div>\n<style scoped>\n    .dataframe tbody tr th:only-of-type {\n        vertical-align: middle;\n    }\n\n    .dataframe tbody tr th {\n        vertical-align: top;\n    }\n\n    .dataframe thead th {\n        text-align: right;\n    }\n</style>\n<table border=\"1\" class=\"dataframe\">\n  <thead>\n    <tr style=\"text-align: right;\">\n      <th></th>\n      <th>dates</th>\n      <th>distances</th>\n      <th>search_rank</th>\n      <th>timestamp</th>\n    </tr>\n  </thead>\n  <tbody>\n    <tr>\n      <th>0</th>\n      <td>2022-10-03 18:44:37.174046</td>\n      <td>60</td>\n      <td>7898059</td>\n      <td>1664822677174046000</td>\n    </tr>\n    <tr>\n      <th>1</th>\n      <td>2022-07-12 00:28:31.207960</td>\n      <td>52</td>\n      <td>1559165</td>\n      <td>1657585711207960000</td>\n    </tr>\n    <tr>\n      <th>2</th>\n      <td>2022-09-18 02:46:57.597922</td>\n      <td>7</td>\n      <td>4946519</td>\n      <td>1663469217597922000</td>\n    </tr>\n    <tr>\n      <th>3</th>\n      <td>2022-08-19 12:00:20.344397</td>\n      <td>77</td>\n      <td>7934807</td>\n      <td>1660910420344397000</td>\n    </tr>\n    <tr>\n      <th>4</th>\n      <td>2022-09-22 11:48:57.470142</td>\n      <td>94</td>\n      <td>3378973</td>\n      <td>1663847337470142000</td>\n    </tr>\n    <tr>\n      <th>...</th>\n      <td>...</td>\n      <td>...</td>\n      <td>...</td>\n      <td>...</td>\n    </tr>\n    <tr>\n      <th>95</th>\n      <td>2022-08-04 15:54:28.180900</td>\n      <td>80</td>\n      <td>9679007</td>\n      <td>1659628468180900000</td>\n    </tr>\n    <tr>\n      <th>96</th>\n      <td>2022-09-04 12:17:16.027690</td>\n      <td>31</td>\n      <td>6007022</td>\n      <td>1662293836027690000</td>\n    </tr>\n    <tr>\n      <th>97</th>\n      <td>2022-08-12 05:20:47.065580</td>\n      <td>81</td>\n      <td>9940275</td>\n      <td>1660281647065580000</td>\n    </tr>\n    <tr>\n      <th>98</th>\n      <td>2022-07-06 21:31:50.447781</td>\n      <td>94</td>\n      <td>1746031</td>\n      <td>1657143110447781000</td>\n    </tr>\n    <tr>\n      <th>99</th>\n      <td>2022-08-19 05:16:54.455868</td>\n      <td>73</td>\n      <td>4408639</td>\n      <td>1660886214455868000</td>\n    </tr>\n  </tbody>\n</table>\n<p>100 rows × 4 columns</p>\n</div>"
     },
     "execution_count": 5,
     "metadata": {},
     "output_type": "execute_result"
    }
   ],
   "source": [
    "df"
   ],
   "metadata": {
    "collapsed": false,
    "pycharm": {
     "name": "#%%\n"
    }
   }
  },
  {
   "cell_type": "code",
   "execution_count": 6,
   "outputs": [
    {
     "data": {
      "text/plain": "    distances  search_rank  timestamp\n0    0.602041     0.789071   0.864936\n1    0.520408     0.134361   0.284012\n2    0.061224     0.484222   0.756291\n3    0.775510     0.792866   0.550892\n4    0.948980     0.322319   0.786643\n..        ...          ...        ...\n95   0.806122     0.973015   0.447987\n96   0.306122     0.593756   0.661941\n97   0.816327     1.000000   0.500419\n98   0.948980     0.153661   0.248483\n99   0.734694     0.428667   0.548949\n\n[100 rows x 3 columns]",
      "text/html": "<div>\n<style scoped>\n    .dataframe tbody tr th:only-of-type {\n        vertical-align: middle;\n    }\n\n    .dataframe tbody tr th {\n        vertical-align: top;\n    }\n\n    .dataframe thead th {\n        text-align: right;\n    }\n</style>\n<table border=\"1\" class=\"dataframe\">\n  <thead>\n    <tr style=\"text-align: right;\">\n      <th></th>\n      <th>distances</th>\n      <th>search_rank</th>\n      <th>timestamp</th>\n    </tr>\n  </thead>\n  <tbody>\n    <tr>\n      <th>0</th>\n      <td>0.602041</td>\n      <td>0.789071</td>\n      <td>0.864936</td>\n    </tr>\n    <tr>\n      <th>1</th>\n      <td>0.520408</td>\n      <td>0.134361</td>\n      <td>0.284012</td>\n    </tr>\n    <tr>\n      <th>2</th>\n      <td>0.061224</td>\n      <td>0.484222</td>\n      <td>0.756291</td>\n    </tr>\n    <tr>\n      <th>3</th>\n      <td>0.775510</td>\n      <td>0.792866</td>\n      <td>0.550892</td>\n    </tr>\n    <tr>\n      <th>4</th>\n      <td>0.948980</td>\n      <td>0.322319</td>\n      <td>0.786643</td>\n    </tr>\n    <tr>\n      <th>...</th>\n      <td>...</td>\n      <td>...</td>\n      <td>...</td>\n    </tr>\n    <tr>\n      <th>95</th>\n      <td>0.806122</td>\n      <td>0.973015</td>\n      <td>0.447987</td>\n    </tr>\n    <tr>\n      <th>96</th>\n      <td>0.306122</td>\n      <td>0.593756</td>\n      <td>0.661941</td>\n    </tr>\n    <tr>\n      <th>97</th>\n      <td>0.816327</td>\n      <td>1.000000</td>\n      <td>0.500419</td>\n    </tr>\n    <tr>\n      <th>98</th>\n      <td>0.948980</td>\n      <td>0.153661</td>\n      <td>0.248483</td>\n    </tr>\n    <tr>\n      <th>99</th>\n      <td>0.734694</td>\n      <td>0.428667</td>\n      <td>0.548949</td>\n    </tr>\n  </tbody>\n</table>\n<p>100 rows × 3 columns</p>\n</div>"
     },
     "execution_count": 6,
     "metadata": {},
     "output_type": "execute_result"
    }
   ],
   "source": [
    "from sklearn import preprocessing\n",
    "scaler2 = preprocessing.MinMaxScaler()\n",
    "df1=pd.DataFrame( scaler2.fit_transform(df.drop(columns=['dates'])), columns=['distances','search_rank','timestamp'])\n",
    "df1"
   ],
   "metadata": {
    "collapsed": false,
    "pycharm": {
     "name": "#%%\n"
    }
   }
  },
  {
   "cell_type": "code",
   "execution_count": 7,
   "outputs": [
    {
     "data": {
      "text/plain": "    distances  search_rank  timestamp                      dates\n0    0.602041     0.789071   0.864936 2022-10-03 18:44:37.174046\n1    0.520408     0.134361   0.284012 2022-07-12 00:28:31.207960\n2    0.061224     0.484222   0.756291 2022-09-18 02:46:57.597922\n3    0.775510     0.792866   0.550892 2022-08-19 12:00:20.344397\n4    0.948980     0.322319   0.786643 2022-09-22 11:48:57.470142\n..        ...          ...        ...                        ...\n95   0.806122     0.973015   0.447987 2022-08-04 15:54:28.180900\n96   0.306122     0.593756   0.661941 2022-09-04 12:17:16.027690\n97   0.816327     1.000000   0.500419 2022-08-12 05:20:47.065580\n98   0.948980     0.153661   0.248483 2022-07-06 21:31:50.447781\n99   0.734694     0.428667   0.548949 2022-08-19 05:16:54.455868\n\n[100 rows x 4 columns]",
      "text/html": "<div>\n<style scoped>\n    .dataframe tbody tr th:only-of-type {\n        vertical-align: middle;\n    }\n\n    .dataframe tbody tr th {\n        vertical-align: top;\n    }\n\n    .dataframe thead th {\n        text-align: right;\n    }\n</style>\n<table border=\"1\" class=\"dataframe\">\n  <thead>\n    <tr style=\"text-align: right;\">\n      <th></th>\n      <th>distances</th>\n      <th>search_rank</th>\n      <th>timestamp</th>\n      <th>dates</th>\n    </tr>\n  </thead>\n  <tbody>\n    <tr>\n      <th>0</th>\n      <td>0.602041</td>\n      <td>0.789071</td>\n      <td>0.864936</td>\n      <td>2022-10-03 18:44:37.174046</td>\n    </tr>\n    <tr>\n      <th>1</th>\n      <td>0.520408</td>\n      <td>0.134361</td>\n      <td>0.284012</td>\n      <td>2022-07-12 00:28:31.207960</td>\n    </tr>\n    <tr>\n      <th>2</th>\n      <td>0.061224</td>\n      <td>0.484222</td>\n      <td>0.756291</td>\n      <td>2022-09-18 02:46:57.597922</td>\n    </tr>\n    <tr>\n      <th>3</th>\n      <td>0.775510</td>\n      <td>0.792866</td>\n      <td>0.550892</td>\n      <td>2022-08-19 12:00:20.344397</td>\n    </tr>\n    <tr>\n      <th>4</th>\n      <td>0.948980</td>\n      <td>0.322319</td>\n      <td>0.786643</td>\n      <td>2022-09-22 11:48:57.470142</td>\n    </tr>\n    <tr>\n      <th>...</th>\n      <td>...</td>\n      <td>...</td>\n      <td>...</td>\n      <td>...</td>\n    </tr>\n    <tr>\n      <th>95</th>\n      <td>0.806122</td>\n      <td>0.973015</td>\n      <td>0.447987</td>\n      <td>2022-08-04 15:54:28.180900</td>\n    </tr>\n    <tr>\n      <th>96</th>\n      <td>0.306122</td>\n      <td>0.593756</td>\n      <td>0.661941</td>\n      <td>2022-09-04 12:17:16.027690</td>\n    </tr>\n    <tr>\n      <th>97</th>\n      <td>0.816327</td>\n      <td>1.000000</td>\n      <td>0.500419</td>\n      <td>2022-08-12 05:20:47.065580</td>\n    </tr>\n    <tr>\n      <th>98</th>\n      <td>0.948980</td>\n      <td>0.153661</td>\n      <td>0.248483</td>\n      <td>2022-07-06 21:31:50.447781</td>\n    </tr>\n    <tr>\n      <th>99</th>\n      <td>0.734694</td>\n      <td>0.428667</td>\n      <td>0.548949</td>\n      <td>2022-08-19 05:16:54.455868</td>\n    </tr>\n  </tbody>\n</table>\n<p>100 rows × 4 columns</p>\n</div>"
     },
     "execution_count": 7,
     "metadata": {},
     "output_type": "execute_result"
    }
   ],
   "source": [
    "df1['dates'] = dates\n",
    "df1"
   ],
   "metadata": {
    "collapsed": false,
    "pycharm": {
     "name": "#%%\n"
    }
   }
  },
  {
   "cell_type": "code",
   "execution_count": 8,
   "outputs": [
    {
     "data": {
      "text/plain": "    distances  search_rank  timestamp                      dates  distances_k  \\\n0    0.602041     0.789071   0.864936 2022-10-03 18:44:37.174046     2.408163   \n1    0.520408     0.134361   0.284012 2022-07-12 00:28:31.207960     2.081633   \n2    0.061224     0.484222   0.756291 2022-09-18 02:46:57.597922     0.244898   \n3    0.775510     0.792866   0.550892 2022-08-19 12:00:20.344397     3.102041   \n4    0.948980     0.322319   0.786643 2022-09-22 11:48:57.470142     3.795918   \n..        ...          ...        ...                        ...          ...   \n95   0.806122     0.973015   0.447987 2022-08-04 15:54:28.180900     3.224490   \n96   0.306122     0.593756   0.661941 2022-09-04 12:17:16.027690     1.224490   \n97   0.816327     1.000000   0.500419 2022-08-12 05:20:47.065580     3.265306   \n98   0.948980     0.153661   0.248483 2022-07-06 21:31:50.447781     3.795918   \n99   0.734694     0.428667   0.548949 2022-08-19 05:16:54.455868     2.938776   \n\n    search_rank_k  timestamp_k   rank_sum  \n0       -2.367212    12.974036  13.014987  \n1       -0.403082     4.260176   5.938726  \n2       -1.452666    11.344367  10.136599  \n3       -2.378598     8.263380   8.986822  \n4       -0.966957    11.799652  14.628614  \n..            ...          ...        ...  \n95      -2.919045     6.719812   7.025256  \n96      -1.781267     9.929118   9.372341  \n97      -3.000000     7.506289   7.771595  \n98      -0.460984     3.727251   7.062186  \n99      -1.286002     8.234234   9.887007  \n\n[100 rows x 8 columns]",
      "text/html": "<div>\n<style scoped>\n    .dataframe tbody tr th:only-of-type {\n        vertical-align: middle;\n    }\n\n    .dataframe tbody tr th {\n        vertical-align: top;\n    }\n\n    .dataframe thead th {\n        text-align: right;\n    }\n</style>\n<table border=\"1\" class=\"dataframe\">\n  <thead>\n    <tr style=\"text-align: right;\">\n      <th></th>\n      <th>distances</th>\n      <th>search_rank</th>\n      <th>timestamp</th>\n      <th>dates</th>\n      <th>distances_k</th>\n      <th>search_rank_k</th>\n      <th>timestamp_k</th>\n      <th>rank_sum</th>\n    </tr>\n  </thead>\n  <tbody>\n    <tr>\n      <th>0</th>\n      <td>0.602041</td>\n      <td>0.789071</td>\n      <td>0.864936</td>\n      <td>2022-10-03 18:44:37.174046</td>\n      <td>2.408163</td>\n      <td>-2.367212</td>\n      <td>12.974036</td>\n      <td>13.014987</td>\n    </tr>\n    <tr>\n      <th>1</th>\n      <td>0.520408</td>\n      <td>0.134361</td>\n      <td>0.284012</td>\n      <td>2022-07-12 00:28:31.207960</td>\n      <td>2.081633</td>\n      <td>-0.403082</td>\n      <td>4.260176</td>\n      <td>5.938726</td>\n    </tr>\n    <tr>\n      <th>2</th>\n      <td>0.061224</td>\n      <td>0.484222</td>\n      <td>0.756291</td>\n      <td>2022-09-18 02:46:57.597922</td>\n      <td>0.244898</td>\n      <td>-1.452666</td>\n      <td>11.344367</td>\n      <td>10.136599</td>\n    </tr>\n    <tr>\n      <th>3</th>\n      <td>0.775510</td>\n      <td>0.792866</td>\n      <td>0.550892</td>\n      <td>2022-08-19 12:00:20.344397</td>\n      <td>3.102041</td>\n      <td>-2.378598</td>\n      <td>8.263380</td>\n      <td>8.986822</td>\n    </tr>\n    <tr>\n      <th>4</th>\n      <td>0.948980</td>\n      <td>0.322319</td>\n      <td>0.786643</td>\n      <td>2022-09-22 11:48:57.470142</td>\n      <td>3.795918</td>\n      <td>-0.966957</td>\n      <td>11.799652</td>\n      <td>14.628614</td>\n    </tr>\n    <tr>\n      <th>...</th>\n      <td>...</td>\n      <td>...</td>\n      <td>...</td>\n      <td>...</td>\n      <td>...</td>\n      <td>...</td>\n      <td>...</td>\n      <td>...</td>\n    </tr>\n    <tr>\n      <th>95</th>\n      <td>0.806122</td>\n      <td>0.973015</td>\n      <td>0.447987</td>\n      <td>2022-08-04 15:54:28.180900</td>\n      <td>3.224490</td>\n      <td>-2.919045</td>\n      <td>6.719812</td>\n      <td>7.025256</td>\n    </tr>\n    <tr>\n      <th>96</th>\n      <td>0.306122</td>\n      <td>0.593756</td>\n      <td>0.661941</td>\n      <td>2022-09-04 12:17:16.027690</td>\n      <td>1.224490</td>\n      <td>-1.781267</td>\n      <td>9.929118</td>\n      <td>9.372341</td>\n    </tr>\n    <tr>\n      <th>97</th>\n      <td>0.816327</td>\n      <td>1.000000</td>\n      <td>0.500419</td>\n      <td>2022-08-12 05:20:47.065580</td>\n      <td>3.265306</td>\n      <td>-3.000000</td>\n      <td>7.506289</td>\n      <td>7.771595</td>\n    </tr>\n    <tr>\n      <th>98</th>\n      <td>0.948980</td>\n      <td>0.153661</td>\n      <td>0.248483</td>\n      <td>2022-07-06 21:31:50.447781</td>\n      <td>3.795918</td>\n      <td>-0.460984</td>\n      <td>3.727251</td>\n      <td>7.062186</td>\n    </tr>\n    <tr>\n      <th>99</th>\n      <td>0.734694</td>\n      <td>0.428667</td>\n      <td>0.548949</td>\n      <td>2022-08-19 05:16:54.455868</td>\n      <td>2.938776</td>\n      <td>-1.286002</td>\n      <td>8.234234</td>\n      <td>9.887007</td>\n    </tr>\n  </tbody>\n</table>\n<p>100 rows × 8 columns</p>\n</div>"
     },
     "execution_count": 8,
     "metadata": {},
     "output_type": "execute_result"
    }
   ],
   "source": [
    "df1['distances_k']=df1.distances * 4\n",
    "df1['search_rank_k']=df1.search_rank * -3\n",
    "df1['timestamp_k']=df1.timestamp * 15\n",
    "df1['rank_sum']=df1.distances_k + df1.search_rank_k + df1.timestamp_k\n",
    "df1"
   ],
   "metadata": {
    "collapsed": false,
    "pycharm": {
     "name": "#%%\n"
    }
   }
  },
  {
   "cell_type": "code",
   "execution_count": null,
   "outputs": [],
   "source": [],
   "metadata": {
    "collapsed": false,
    "pycharm": {
     "name": "#%%\n"
    }
   }
  }
 ],
 "metadata": {
  "kernelspec": {
   "display_name": "Python 3",
   "language": "python",
   "name": "python3"
  },
  "language_info": {
   "codemirror_mode": {
    "name": "ipython",
    "version": 2
   },
   "file_extension": ".py",
   "mimetype": "text/x-python",
   "name": "python",
   "nbconvert_exporter": "python",
   "pygments_lexer": "ipython2",
   "version": "2.7.6"
  }
 },
 "nbformat": 4,
 "nbformat_minor": 0
}